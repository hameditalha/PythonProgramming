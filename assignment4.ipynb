{
 "cells": [
  {
   "cell_type": "code",
   "execution_count": 1,
   "metadata": {},
   "outputs": [
    {
     "name": "stdout",
     "output_type": "stream",
     "text": [
      "Talha\n",
      "Ahmed Hamedi\n",
      "21\n",
      "Karachi, Pakistan\n",
      "{'first_name': 'Talha', 'last_name': 'Ahmed Hamedi', 'age': 21, 'city': 'Karachi, Pakistan', 'qualification': ''}\n",
      "{'first_name': 'Talha', 'last_name': 'Ahmed Hamedi', 'age': 21, 'city': 'Karachi, Pakistan', 'qualification': 'High academic level'}\n",
      "{'first_name': 'Talha', 'last_name': 'Ahmed Hamedi', 'age': 21, 'city': 'Karachi, Pakistan'}\n"
     ]
    }
   ],
   "source": [
    "detail = {\n",
    "    'first_name' : 'Talha',\n",
    "    'last_name' : 'Ahmed Hamedi',\n",
    "    'age' : 21,\n",
    "    'city' : 'Karachi, Pakistan'\n",
    "}\n",
    "print(detail['first_name'] + '\\n' + detail['last_name'] + '\\n' + str(detail ['age']) + '\\n' + detail['city'])\n",
    "detail['qualification'] = ''\n",
    "print(detail)\n",
    "detail['qualification'] = 'High academic level'\n",
    "print(detail)\n",
    "del(detail['qualification'])\n",
    "print(detail)"
   ]
  },
  {
   "cell_type": "code",
   "execution_count": 2,
   "metadata": {},
   "outputs": [
    {
     "name": "stdout",
     "output_type": "stream",
     "text": [
      "KARACHI\n",
      "Country : Pakistan\n",
      "Population : 14.91M\n",
      "Interesting fact : 6th largest city of the world\n",
      "\n",
      "\n",
      "PARIS\n",
      "Country : France\n",
      "Population : 2.141M\n",
      "Interesting fact : City of love\n",
      "\n",
      "\n",
      "NEWYORK\n",
      "Country : United States of America\n",
      "Population : 8.623M\n",
      "Interesting fact : Famous for Niagra Falls\n",
      "\n",
      "\n"
     ]
    }
   ],
   "source": [
    "cities = {\n",
    "    'Karachi' : {\n",
    "        'country' : 'Pakistan',\n",
    "        'population' : 14.91,\n",
    "        'fact' : '6th largest city of the world'\n",
    "    },\n",
    "    'Paris' : {\n",
    "        'country' : 'France',\n",
    "        'population' : 2.141,\n",
    "        'fact' : 'City of love'\n",
    "    },\n",
    "    'NewYork' : {\n",
    "        'country': 'United States of America',\n",
    "        'population' : 8.623,\n",
    "        'fact' : 'Famous for Niagra Falls'\n",
    "    }\n",
    "}\n",
    "for each in cities:\n",
    "    print(each.upper())\n",
    "    print('Country : ' + cities[each]['country'])\n",
    "    print('Population : ' + str(cities[each]['population']) + 'M')\n",
    "    print('Interesting fact : ' + cities[each]['fact'])\n",
    "    print('\\n')"
   ]
  },
  {
   "cell_type": "code",
   "execution_count": 3,
   "metadata": {},
   "outputs": [
    {
     "name": "stdout",
     "output_type": "stream",
     "text": [
      "Enter age\n",
      "3\n",
      "10USD\n",
      "continue?n\n",
      "END\n"
     ]
    }
   ],
   "source": [
    "price = {\n",
    "    'low' : 'free',\n",
    "    'med' : '10USD',\n",
    "    'hig' : '15USD'\n",
    "}\n",
    "cont = True\n",
    "while(cont == True):\n",
    "    age = int(input('Enter age\\n'))\n",
    "    if age < 3:\n",
    "        chk = 'low'\n",
    "    elif age >= 3 and age <= 12:\n",
    "        chk = 'med'\n",
    "    elif age > 12:\n",
    "        chk = 'hig'\n",
    "    print(price[chk])\n",
    "    cont = True if input('continue?').lower() == 'y' else False\n",
    "print('END')"
   ]
  },
  {
   "cell_type": "code",
   "execution_count": 4,
   "metadata": {},
   "outputs": [
    {
     "name": "stdout",
     "output_type": "stream",
     "text": [
      "My favorite book is The Bug\n"
     ]
    }
   ],
   "source": [
    "def favorite_book(book):\n",
    "    print('My favorite book is ' + str(book))\n",
    "    \n",
    "favorite_book('The Bug')"
   ]
  },
  {
   "cell_type": "code",
   "execution_count": 5,
   "metadata": {},
   "outputs": [
    {
     "name": "stdout",
     "output_type": "stream",
     "text": [
      "Guess the number\n",
      "20\n",
      "Opps.. this one is too large\n",
      "Guess the number\n",
      "15\n",
      "Opps.. this one is too large\n",
      "Guess the number\n",
      "9\n",
      "Opps.. this one is too large\n",
      "Try again..\n"
     ]
    }
   ],
   "source": [
    "import random\n",
    "rand = random.randint(1, 30)\n",
    "count = 0\n",
    "while(count != 3):\n",
    "    num = int(input('Guess the number\\n'))\n",
    "    if rand == num:\n",
    "        print('WOW... You guessed it!')\n",
    "        break\n",
    "    else:\n",
    "        cond = print('Opps.. this one is too small') if num < rand else print('Opps.. this one is too large')\n",
    "        count += 1\n",
    "        if count == 3:\n",
    "            print('Try again..')\n"
   ]
  },
  {
   "cell_type": "code",
   "execution_count": null,
   "metadata": {},
   "outputs": [],
   "source": []
  }
 ],
 "metadata": {
  "kernelspec": {
   "display_name": "Python 3",
   "language": "python",
   "name": "python3"
  },
  "language_info": {
   "codemirror_mode": {
    "name": "ipython",
    "version": 3
   },
   "file_extension": ".py",
   "mimetype": "text/x-python",
   "name": "python",
   "nbconvert_exporter": "python",
   "pygments_lexer": "ipython3",
   "version": "3.7.4"
  }
 },
 "nbformat": 4,
 "nbformat_minor": 2
}

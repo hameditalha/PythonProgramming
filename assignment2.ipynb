{
 "cells": [
  {
   "cell_type": "code",
   "execution_count": 1,
   "metadata": {},
   "outputs": [
    {
     "name": "stdout",
     "output_type": "stream",
     "text": [
      "subject1 : 90\n",
      "subject2 : 56\n",
      "subject3 : 75\n",
      "subject4 : 87\n",
      "subject5 : 67\n",
      "total makrs : 500\n",
      "total marks achieved : 375 out of 500\n",
      "grade : A\n"
     ]
    }
   ],
   "source": [
    "sub1 = int(input('subject1 : '))\n",
    "sub2 = int(input('subject2 : '))\n",
    "sub3 = int(input('subject3 : '))\n",
    "sub4 = int(input('subject4 : '))\n",
    "sub5 = int(input('subject5 : '))\n",
    "total = int(input('total makrs : '))\n",
    "totalAch = sub1 + sub2 + sub3 + sub4 + sub5\n",
    "per = totalAch / total * 100\n",
    "\n",
    "\n",
    "if per < 50 :\n",
    "    grade  = 'F'\n",
    "elif per > 50 and per < 60 :\n",
    "    grade = 'C'\n",
    "elif per > 60 and per < 70 :\n",
    "    grade  = 'B'\n",
    "elif per > 70 and per < 85 :\n",
    "    grade = 'A'\n",
    "elif per > 85 :\n",
    "    grade = 'A*'\n",
    "    \n",
    "print('total marks achieved : ' + str(totalAch) + ' out of ' + str(total))\n",
    "print('grade : ' + str(grade))"
   ]
  },
  {
   "cell_type": "code",
   "execution_count": 2,
   "metadata": {},
   "outputs": [
    {
     "name": "stdout",
     "output_type": "stream",
     "text": [
      "enter number to be identified : 98768904240\n",
      "number is even\n"
     ]
    }
   ],
   "source": [
    "num = int(input('enter number to be identified : '))\n",
    "cond = num % 2\n",
    "if num == 0 :\n",
    "    print('zero is neither even nor odd')\n",
    "elif cond == 0:\n",
    "    print('number is even')\n",
    "elif cond  == 1:\n",
    "    print('number is odd')"
   ]
  },
  {
   "cell_type": "code",
   "execution_count": 3,
   "metadata": {},
   "outputs": [
    {
     "name": "stdout",
     "output_type": "stream",
     "text": [
      "6\n"
     ]
    }
   ],
   "source": [
    "alist = ['a', 90, 234, 0.009, 'wer', 542]\n",
    "print(len(alist))"
   ]
  },
  {
   "cell_type": "code",
   "execution_count": 4,
   "metadata": {},
   "outputs": [
    {
     "name": "stdout",
     "output_type": "stream",
     "text": [
      "866.009\n"
     ]
    }
   ],
   "source": [
    "alist = ['a', 90, 234, 0.009, 'wer', 542]\n",
    "add = 0\n",
    "for x in alist:\n",
    "    if type(x) == int or type(x) == float:\n",
    "        add += x\n",
    "print(add)"
   ]
  },
  {
   "cell_type": "code",
   "execution_count": 5,
   "metadata": {},
   "outputs": [
    {
     "name": "stdout",
     "output_type": "stream",
     "text": [
      "10099\n"
     ]
    }
   ],
   "source": [
    "alist = [1, 2, 3, 4, 5, 999, 89, 10099, 90, 89]\n",
    "large = 0\n",
    "for x in alist:\n",
    "    if x > large :\n",
    "        large = x\n",
    "print(large)"
   ]
  },
  {
   "cell_type": "code",
   "execution_count": 6,
   "metadata": {},
   "outputs": [
    {
     "name": "stdout",
     "output_type": "stream",
     "text": [
      "1\n",
      "2\n",
      "3\n",
      "4\n"
     ]
    }
   ],
   "source": [
    "alist = [1, 2, 3, 4, 5, 999, 89, 10099, 90, 89]\n",
    "for x in alist:\n",
    "    if x < 5 :\n",
    "        print(x)"
   ]
  },
  {
   "cell_type": "code",
   "execution_count": null,
   "metadata": {},
   "outputs": [],
   "source": []
  }
 ],
 "metadata": {
  "kernelspec": {
   "display_name": "Python 3",
   "language": "python",
   "name": "python3"
  },
  "language_info": {
   "codemirror_mode": {
    "name": "ipython",
    "version": 3
   },
   "file_extension": ".py",
   "mimetype": "text/x-python",
   "name": "python",
   "nbconvert_exporter": "python",
   "pygments_lexer": "ipython3",
   "version": "3.7.4"
  }
 },
 "nbformat": 4,
 "nbformat_minor": 2
}

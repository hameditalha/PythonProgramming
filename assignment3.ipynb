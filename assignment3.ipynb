{
 "cells": [
  {
   "cell_type": "code",
   "execution_count": 1,
   "metadata": {},
   "outputs": [
    {
     "name": "stdout",
     "output_type": "stream",
     "text": [
      "Enter first operand\n",
      "2\n",
      "Enter second operand\n",
      "32\n",
      "Enter operator to be operated\n",
      "**\n",
      "2.0 ** 32.0 = 4294967296.0\n"
     ]
    }
   ],
   "source": [
    "n1 = float(input('Enter first operand\\n'))\n",
    "n2 = float(input('Enter second operand\\n'))\n",
    "op = input('Enter operator to be operated\\n')\n",
    "out = ''\n",
    "if op == '+':\n",
    "    out = n1 + n2\n",
    "elif op == '-':\n",
    "    out = n1 - n2\n",
    "elif op == '/':\n",
    "    out = n1 / n2\n",
    "elif op == '*':\n",
    "    out = n1 * n2\n",
    "elif op == '^' or op == '**':\n",
    "    out  = n1 ** n2\n",
    "else :\n",
    "    out = 'ERROR'\n",
    "print(str(n1) + ' ' + op + ' ' + str(n2) + ' = ' + str(out) )"
   ]
  },
  {
   "cell_type": "code",
   "execution_count": 2,
   "metadata": {},
   "outputs": [
    {
     "name": "stdout",
     "output_type": "stream",
     "text": [
      "True\n"
     ]
    }
   ],
   "source": [
    "flag = False\n",
    "ls = ['a', 'asdasd', 123, 123.4, [1,2,3,4], {'a' : 'A'}]\n",
    "for x in ls:\n",
    "    if type(x) == int or type(x) == float:\n",
    "        flag = True\n",
    "print(flag)"
   ]
  },
  {
   "cell_type": "code",
   "execution_count": 3,
   "metadata": {},
   "outputs": [
    {
     "name": "stdout",
     "output_type": "stream",
     "text": [
      "{0: 'a', 1: 'b', 2: 'c', 3: 'd', 4: 'f'}\n"
     ]
    }
   ],
   "source": [
    "ls = ['a', 'b', 'c', 'd', 'f']\n",
    "dic = {}\n",
    "for n, l in enumerate(ls):\n",
    "    dic.update({n : l})\n",
    "print(dic)"
   ]
  },
  {
   "cell_type": "code",
   "execution_count": 4,
   "metadata": {},
   "outputs": [
    {
     "name": "stdout",
     "output_type": "stream",
     "text": [
      "10\n"
     ]
    }
   ],
   "source": [
    "dic = {'a': 0, 'b': 1, 'c': 2, 'd': 3, 'f': 4}\n",
    "out = 0\n",
    "for x in dic.values():\n",
    "    if type(x) == int or type(x) == float:\n",
    "        out += x\n",
    "print(out)"
   ]
  },
  {
   "cell_type": "code",
   "execution_count": 5,
   "metadata": {},
   "outputs": [
    {
     "name": "stdout",
     "output_type": "stream",
     "text": [
      "['a', 12]\n"
     ]
    }
   ],
   "source": [
    "rep = []\n",
    "ls = ['a', 'asd', 'res', 12, 90, '90', 12, 'a']\n",
    "for x in range(len(ls)):\n",
    "    for y in range(x, len(ls)):\n",
    "        if x != y and ls[x] == ls[y]:\n",
    "            rep.append(ls[x])\n",
    "print(rep)"
   ]
  },
  {
   "cell_type": "code",
   "execution_count": 6,
   "metadata": {},
   "outputs": [
    {
     "name": "stdout",
     "output_type": "stream",
     "text": [
      "Key already exists\n"
     ]
    }
   ],
   "source": [
    "key = 'f'\n",
    "dic = {'a': 0, 'b': 1, 'c': 2, 'd': 3, 'f': 4, 'f' : 5}\n",
    "ls = list(dic.keys())\n",
    "for x in ls:\n",
    "    flag = True if x == key else False\n",
    "\n",
    "print('Key already exists') if flag == True else print('Key not found existing')     "
   ]
  },
  {
   "cell_type": "code",
   "execution_count": null,
   "metadata": {},
   "outputs": [],
   "source": []
  }
 ],
 "metadata": {
  "kernelspec": {
   "display_name": "Python 3",
   "language": "python",
   "name": "python3"
  },
  "language_info": {
   "codemirror_mode": {
    "name": "ipython",
    "version": 3
   },
   "file_extension": ".py",
   "mimetype": "text/x-python",
   "name": "python",
   "nbconvert_exporter": "python",
   "pygments_lexer": "ipython3",
   "version": "3.7.4"
  }
 },
 "nbformat": 4,
 "nbformat_minor": 2
}

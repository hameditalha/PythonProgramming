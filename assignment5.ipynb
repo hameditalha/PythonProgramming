{
 "cells": [
  {
   "cell_type": "code",
   "execution_count": 1,
   "metadata": {},
   "outputs": [
    {
     "name": "stdout",
     "output_type": "stream",
     "text": [
      "Enter number to compute factorial\n",
      "5\n",
      "Factorial of 5 is 120\n"
     ]
    }
   ],
   "source": [
    "def fac(num):\n",
    "    if num == 1:\n",
    "        return num\n",
    "    else:\n",
    "        return num*fac(num-1)\n",
    "num = int(input('Enter number to compute factorial\\n'))\n",
    "print('Factorial of ' + str(num) + ' is ' + str(fac(num)))"
   ]
  },
  {
   "cell_type": "code",
   "execution_count": 2,
   "metadata": {},
   "outputs": [
    {
     "name": "stdout",
     "output_type": "stream",
     "text": [
      "Upper case : 2\n",
      "Lower case : 3\n"
     ]
    }
   ],
   "source": [
    "def validation(*text):\n",
    "    uc = 0\n",
    "    lc = 0\n",
    "    for x in text:\n",
    "        if x.isupper():\n",
    "            uc += 1\n",
    "        elif x.islower():\n",
    "            lc += 1\n",
    "    return(uc, lc)\n",
    "result = validation('w', 't', 'l', 'R', 'K')\n",
    "print('Upper case : ' + str(result[0]) +'\\nLower case : ' + str(result[1]))"
   ]
  },
  {
   "cell_type": "code",
   "execution_count": 3,
   "metadata": {},
   "outputs": [
    {
     "name": "stdout",
     "output_type": "stream",
     "text": [
      "2 is even\n",
      "4 is even\n",
      "6 is even\n",
      "8 is even\n",
      "0 is even\n",
      "None\n"
     ]
    }
   ],
   "source": [
    "def even(*num):\n",
    "    for each in num:\n",
    "        if each % 2 == 0:\n",
    "            print(str(each) + ' is even')\n",
    "\n",
    "print(even(1, 2, 3, 4, 5, 6, 7, 8, 9, 0))"
   ]
  },
  {
   "cell_type": "code",
   "execution_count": 4,
   "metadata": {},
   "outputs": [
    {
     "name": "stdout",
     "output_type": "stream",
     "text": [
      "Enter text to check\n",
      "talha\n",
      "Text is not plaindrome\n"
     ]
    }
   ],
   "source": [
    "def plaindrome(text):\n",
    "    c = -1\n",
    "    for x in range(len(text)//2):\n",
    "        if text[x] == text[c]:\n",
    "            c -= 1\n",
    "        else:\n",
    "            return False\n",
    "        return True\n",
    "text = input('Enter text to check\\n')\n",
    "print('Text is plaindrome') if plaindrome(text) else print('Text is not plaindrome')"
   ]
  },
  {
   "cell_type": "code",
   "execution_count": 6,
   "metadata": {},
   "outputs": [
    {
     "name": "stdout",
     "output_type": "stream",
     "text": [
      "Enter number to check\n",
      "1234\n",
      "Number is composite\n"
     ]
    }
   ],
   "source": [
    "def prime(num):\n",
    "    for x in range(2, (num // 2) + 1):\n",
    "        if num % x == 0:\n",
    "            return False\n",
    "    return True\n",
    "y = prime(int(input('Enter number to check\\n')))\n",
    "print('Number is prime') if y else print('Number is composite')"
   ]
  },
  {
   "cell_type": "code",
   "execution_count": 7,
   "metadata": {},
   "outputs": [
    {
     "name": "stdout",
     "output_type": "stream",
     "text": [
      "as\n",
      "qw\n",
      "zx\n",
      "er\n",
      "df\n",
      "cv\n"
     ]
    }
   ],
   "source": [
    "def prnt(*item):\n",
    "    for each in item:\n",
    "        print(each)\n",
    "        \n",
    "prnt('as', 'qw', 'zx', 'er', 'df', 'cv')"
   ]
  },
  {
   "cell_type": "code",
   "execution_count": null,
   "metadata": {},
   "outputs": [],
   "source": []
  }
 ],
 "metadata": {
  "kernelspec": {
   "display_name": "Python 3",
   "language": "python",
   "name": "python3"
  },
  "language_info": {
   "codemirror_mode": {
    "name": "ipython",
    "version": 3
   },
   "file_extension": ".py",
   "mimetype": "text/x-python",
   "name": "python",
   "nbconvert_exporter": "python",
   "pygments_lexer": "ipython3",
   "version": "3.7.4"
  }
 },
 "nbformat": 4,
 "nbformat_minor": 2
}

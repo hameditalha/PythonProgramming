{
 "cells": [
  {
   "cell_type": "markdown",
   "metadata": {},
   "source": [
    "Object oriented programming language is a model that builds up around data or objects rather and not logics."
   ]
  },
  {
   "cell_type": "markdown",
   "metadata": {},
   "source": [
    "1. Enables reuse of code.\n",
    "2. Code is easy to understand as lies in a clear modular structure.\n",
    "3. Code is easy to maintain being in classes. \n",
    "4. Faster development as functions and types are used across the code."
   ]
  },
  {
   "cell_type": "markdown",
   "metadata": {},
   "source": [
    "Function is a sellf describing unit of code independent of any class or structure.\n",
    "Method is a referenced unit of code that depends and indentified by the containing class."
   ]
  },
  {
   "cell_type": "markdown",
   "metadata": {},
   "source": [
    "1. Class : is a blue print for upcoming instances to operate and behave\n",
    "2. Object : each instance or reference of a class is called object in OOP\n",
    "3. Attribute : data stored in a class to represent the state of instance\n",
    "4. Behavior : defines the actions of an instance of a class"
   ]
  },
  {
   "cell_type": "code",
   "execution_count": 2,
   "metadata": {},
   "outputs": [
    {
     "name": "stdout",
     "output_type": "stream",
     "text": [
      "Name is Corolla\n",
      "Model is XLI\n",
      "Manufactured by Toyota\n",
      "Made in year 2019\n",
      "Color is Black\n"
     ]
    }
   ],
   "source": [
    "class Car:\n",
    "    def __init__(this, name, model, manufac, year, color):\n",
    "        this.name = name\n",
    "        this.model = model\n",
    "        this.manufac = manufac\n",
    "        this.year = year\n",
    "        this.color = color\n",
    "    \n",
    "    def prnt(this):\n",
    "        print('Name is ' + str(this.name))\n",
    "        print('Model is ' + str(this.model))\n",
    "        print('Manufactured by ' + str(this.manufac))\n",
    "        print('Made in year ' + str(this.year))\n",
    "        print('Color is ' + str(this.color))\n",
    "    \n",
    "C1 = Car('Corolla', 'GLI', 'Toyota', 2017, 'White')\n",
    "C2 = Car('Corolla', 'GLI', 'Toyota', 2015, 'Black')\n",
    "C3 = Car('Corolla', 'GLI', 'Toyota', 2016, 'Blue')\n",
    "C4 = Car('Corolla', 'XLI', 'Toyota', 2018, 'White')\n",
    "C5 = Car('Corolla', 'XLI', 'Toyota', 2019, 'Black')\n",
    "\n",
    "C5.prnt()"
   ]
  },
  {
   "cell_type": "code",
   "execution_count": null,
   "metadata": {},
   "outputs": [],
   "source": []
  }
 ],
 "metadata": {
  "kernelspec": {
   "display_name": "Python 3",
   "language": "python",
   "name": "python3"
  },
  "language_info": {
   "codemirror_mode": {
    "name": "ipython",
    "version": 3
   },
   "file_extension": ".py",
   "mimetype": "text/x-python",
   "name": "python",
   "nbconvert_exporter": "python",
   "pygments_lexer": "ipython3",
   "version": "3.7.4"
  }
 },
 "nbformat": 4,
 "nbformat_minor": 2
}
